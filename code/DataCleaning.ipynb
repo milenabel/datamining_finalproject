{
 "cells": [
  {
   "cell_type": "code",
   "execution_count": 37,
   "id": "ee2ad529",
   "metadata": {},
   "outputs": [
    {
     "name": "stdout",
     "output_type": "stream",
     "text": [
      "done\n"
     ]
    }
   ],
   "source": [
    "# Importing Packages \n",
    "import pandas as pd \n",
    "import numpy as np \n",
    "\n",
    "\n",
    "# Loading in the data set \n",
    "weatherData = pd.read_csv('Weather Data.csv')\n",
    "\n",
    "\n",
    "# Extracting 5 features: Temperature, Humidity, Wind Speed, Vis, Pressure, Percip \n",
    "features = ['Temp_C','Rel Hum_%', 'Wind Speed_km/h', 'Press_kPa', 'Weather']\n",
    "cleanWeatherData = weatherData[features] \n",
    "cleanWeatherData.tail()\n",
    "\n",
    "# Creating Bindary representation of Weather Variable \n",
    "# Not snow, rain = 0 \n",
    "# rain = 1 \n",
    "# snow = 2 \n",
    "\n",
    "weather_binary = []\n",
    "for w in cleanWeatherData['Weather']:\n",
    "    #print(w)\n",
    "    if 'Snow' in w: \n",
    "        weather_binary.append(2) \n",
    "        #print('SNOW')\n",
    "    elif 'Rain' in w:\n",
    "        weather_binary.append(1)\n",
    "        #print('RAIN')\n",
    "    else: \n",
    "        weather_binary.append(0)\n",
    "        #print('NONE')\n",
    "\n",
    "\n",
    "\n",
    "cleanWeatherData.insert(5,'Percip', weather_binary)\n",
    "cleanWeatherData.head()\n",
    "\n",
    "weatherData_L=cleanWeatherData\n",
    "weatherData_L.head()\n",
    "\n",
    "weatherData_NL = weatherData_L.drop('Weather',axis=1)\n",
    "weatherData_NL.head()\n",
    "\n",
    "weather_L = weatherData_L.to_csv('weatherData_L.csv')\n",
    "weather_NL =weatherData_NL.to_csv('weatherData_NL.csv')\n",
    "print('done')"
   ]
  },
  {
   "cell_type": "code",
   "execution_count": null,
   "id": "fba2df68",
   "metadata": {},
   "outputs": [],
   "source": []
  }
 ],
 "metadata": {
  "kernelspec": {
   "display_name": "Python 3 (ipykernel)",
   "language": "python",
   "name": "python3"
  },
  "language_info": {
   "codemirror_mode": {
    "name": "ipython",
    "version": 3
   },
   "file_extension": ".py",
   "mimetype": "text/x-python",
   "name": "python",
   "nbconvert_exporter": "python",
   "pygments_lexer": "ipython3",
   "version": "3.8.13"
  }
 },
 "nbformat": 4,
 "nbformat_minor": 5
}
